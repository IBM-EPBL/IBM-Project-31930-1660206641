{
  "nbformat": 4,
  "nbformat_minor": 0,
  "metadata": {
    "colab": {
      "provenance": []
    },
    "kernelspec": {
      "name": "python3",
      "display_name": "Python 3"
    },
    "language_info": {
      "name": "python"
    }
  },
  "cells": [
    {
      "cell_type": "code",
      "source": [
        "!pip install Augmentor"
      ],
      "metadata": {
        "id": "wJyuZouBbPkk"
      },
      "execution_count": null,
      "outputs": []
    },
    {
      "cell_type": "code",
      "source": [
        "import Augmentor\n",
        "\n",
        "path_to_data = \"/home/user/images/dataset1/\"\n",
        "\n",
        "p = Augmentor.Pipeline(path_to_data)\n",
        "\n",
        "p.flip_left_right(probability=0.4)\n",
        "\n",
        "p.flip_top_bottom(probability=0.8)\n",
        "\n",
        "p.rotate90(probability=0.1)\n",
        "\n",
        "p.sample(num_of_samples)\n"
      ],
      "metadata": {
        "id": "bj5oD8fUbUXp"
      },
      "execution_count": null,
      "outputs": []
    },
    {
      "cell_type": "code",
      "source": [],
      "metadata": {
        "id": "cWeEKC0QbpyG"
      },
      "execution_count": null,
      "outputs": []
    }
  ]
}