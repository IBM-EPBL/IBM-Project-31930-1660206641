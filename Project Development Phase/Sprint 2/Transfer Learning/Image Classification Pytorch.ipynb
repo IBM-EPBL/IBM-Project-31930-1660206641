{
  "nbformat": 4,
  "nbformat_minor": 0,
  "metadata": {
    "colab": {
      "provenance": []
    },
    "kernelspec": {
      "name": "python3",
      "display_name": "Python 3"
    },
    "language_info": {
      "name": "python"
    }
  },
  "cells": [
    {
      "cell_type": "code",
      "execution_count": null,
      "metadata": {
        "id": "CQSm63nUs5Cq"
      },
      "outputs": [],
      "source": [
        "!nvidia-smi"
      ]
    },
    {
      "cell_type": "code",
      "source": [
        "!git clone https://github.com/Balasubramaniam077/Transfer_learning_01.git"
      ],
      "metadata": {
        "id": "nVFvXof0s6j_"
      },
      "execution_count": null,
      "outputs": []
    },
    {
      "cell_type": "code",
      "source": [
        "%cd /content/Transfer_learning_01"
      ],
      "metadata": {
        "id": "wYp-VRq6s8qY"
      },
      "execution_count": null,
      "outputs": []
    },
    {
      "cell_type": "code",
      "source": [
        "!unzip \"/content/drive/MyDrive/paper-works /Nalaiya Thiran /Dataset/Final-Dataset.zip\""
      ],
      "metadata": {
        "id": "q2k3msTHs_U8"
      },
      "execution_count": null,
      "outputs": []
    },
    {
      "cell_type": "code",
      "source": [
        "!pwd"
      ],
      "metadata": {
        "id": "BztL3NectBYv"
      },
      "execution_count": null,
      "outputs": []
    },
    {
      "cell_type": "code",
      "source": [
        "!python preprocessing.py"
      ],
      "metadata": {
        "id": "74lokAuAtDY-"
      },
      "execution_count": null,
      "outputs": []
    },
    {
      "cell_type": "code",
      "source": [
        "!python train.py"
      ],
      "metadata": {
        "id": "Im6d1FHOtFSf"
      },
      "execution_count": null,
      "outputs": []
    }
  ]
}