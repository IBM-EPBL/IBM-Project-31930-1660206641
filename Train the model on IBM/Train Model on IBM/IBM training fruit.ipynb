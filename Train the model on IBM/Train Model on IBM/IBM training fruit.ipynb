{
  "nbformat": 4,
  "nbformat_minor": 0,
  "metadata": {
    "colab": {
      "provenance": []
    },
    "kernelspec": {
      "name": "python3",
      "display_name": "Python 3"
    },
    "language_info": {
      "name": "python"
    }
  },
  "cells": [
    {
      "cell_type": "code",
      "execution_count": null,
      "metadata": {
        "id": "BkOLt7JmJoJh"
      },
      "outputs": [],
      "source": [
        "from tensorflow.keras.preprocessing.image import ImageDataGenerator\n",
        "train_datagen=ImageDataGenerator(rescale=1./255,shear_range=0.2,zoom_range=0.2,horizontal_flip=True)\n",
        "test_datagen=ImageDataGenerator(rescale=1)\n",
        "x_train=train_datagen.flow_from_directory(r'C:\\Users\\Rishika\\OneDrive\\Desktop\\Fertilizer recommendation system for disease prediction\\Dataset Plant Disease\\fruit-dataset\\fruit-dataset\\train',target_size=(128,128),batch_size=2,class_mode='categorical')\n",
        "\n",
        "x_test=test_datagen.flow_from_directory(r'C:\\Users\\Rishika\\OneDrive\\Desktop\\Fertilizer recommendation system for disease prediction\\Dataset Plant Disease\\fruit\\disease\\fruit-dataset\\test')"
      ]
    },
    {
      "cell_type": "markdown",
      "source": [
        "Found 5384 images belonging to 6 classes.\n",
        "Found 1686 images belonging to 6 classes."
      ],
      "metadata": {
        "id": "vbeIhEOgKIPx"
      }
    },
    {
      "cell_type": "code",
      "source": [
        "from tensorflow.keras.models import Sequential\n",
        "from tensorflow.keras.layers import Dense,Convolution2D,MaxPooling2D,Flatten"
      ],
      "metadata": {
        "id": "N2rmYU4WKKp8"
      },
      "execution_count": null,
      "outputs": []
    },
    {
      "cell_type": "code",
      "source": [
        "model=Sequential()\n",
        "model.add(Convolution2D(32,(3,3),input_shape=(128,128,3),activation='relu'))\n",
        "model.add(MaxPooling2D(pool_size=(2,2)))\n",
        "model.add(Flatten())\n",
        "model.summary()"
      ],
      "metadata": {
        "id": "R5gDw7CxKM1U"
      },
      "execution_count": null,
      "outputs": []
    },
    {
      "cell_type": "code",
      "source": [
        "Model: \"sequential_1\"\n",
        "_________________________________________________________________\n",
        " Layer (type)                Output Shape              Param #   \n",
        "=================================================================\n",
        " conv2d_1 (Conv2D)           (None, 126, 126, 32)      896       \n",
        "                                                                 \n",
        " max_pooling2d_1 (MaxPooling  (None, 63, 63, 32)       0         \n",
        " 2D)                                                             \n",
        "                                                                 \n",
        " flatten_1 (Flatten)         (None, 127008)            0         \n",
        "                                                                 \n",
        "=================================================================\n",
        "Total params: 896\n",
        "Trainable params: 896\n",
        "Non-trainable params: 0\n",
        "_________________________________________________________________\n"
      ],
      "metadata": {
        "id": "4x7ga4AlKRHY"
      },
      "execution_count": null,
      "outputs": []
    },
    {
      "cell_type": "code",
      "source": [
        "model.add(Dense(300,activation='relu'))\n",
        "model.add(Dense(150,activation='relu'))\n",
        "model.add(Dense(6,activation='softmax'))\n",
        "model.compile(loss='categorical_crossentropy',optimizer='adam',metrics=['accuracy'])\n",
        "model.fit(x_train,steps_per_epoch=len(x_train),validation_data=x_test,validation_steps=len(x_test),epochs=3)"
      ],
      "metadata": {
        "id": "FSLoBUX1KkPH"
      },
      "execution_count": null,
      "outputs": []
    },
    {
      "cell_type": "markdown",
      "source": [
        "\n",
        "Epoch 1/3\n",
        "2692/2692 [==============================] - 819s 304ms/step - loss: 1.6518 - accuracy: 0.3338 - val_loss: 1.6453 - val_accuracy: 0.2924\n",
        "\n",
        "Epoch 2/3\n",
        "2692/2692 [==============================] - 840s 312ms/step - loss: 1.6482 - accuracy: 0.3351 - val_loss: 1.6483 - val_accuracy: 0.2924\n",
        "\n",
        "Epoch 3/3\n",
        "2692/2692 [==============================] - 7306s 3s/step - loss: 1.6463 - accuracy: 0.3351 - val_loss: 1.6422 - val_accuracy: 0.2924\n"
      ],
      "metadata": {
        "id": "FNh2CQuQKzCd"
      }
    },
    {
      "cell_type": "code",
      "source": [
        "model.save('fruit.h5')"
      ],
      "metadata": {
        "id": "dDw0ODEOK-ju"
      },
      "execution_count": null,
      "outputs": []
    },
    {
      "cell_type": "code",
      "source": [
        "!tar -zcvf fruit-classification.tgz fruit.h5"
      ],
      "metadata": {
        "id": "VhpUQFsrLA00"
      },
      "execution_count": null,
      "outputs": []
    },
    {
      "cell_type": "markdown",
      "source": [
        "a fruit.h5"
      ],
      "metadata": {
        "id": "A5R6urI6LEC7"
      }
    },
    {
      "cell_type": "code",
      "source": [
        "!pip install watson-machine-learning-client"
      ],
      "metadata": {
        "id": "NNm1DVn5LEq_"
      },
      "execution_count": null,
      "outputs": []
    },
    {
      "cell_type": "markdown",
      "source": [
        "\n",
        "\n",
        "```\n",
        "Defaulting to user installation because normal site-packages is not writeable\n",
        "Requirement already satisfied: watson-machine-learning-client in c:\\users\\Rishika\\appdata\\roaming\\python\\python39\\site-packages (1.0.391)\n",
        "Requirement already satisfied: lomond in c:\\users\\ Rishika \\appdata\\roaming\\python\\python39\\site-packages (from watson-machine-learning-client) (0.3.3)\n",
        "Requirement already satisfied: tabulate in c:\\anaconda\\lib\\site-packages (from watson-machine-learning-client) (0.8.9)\n",
        "Requirement already satisfied: tqdm in c:\\anaconda\\lib\\site-packages (from watson-machine-learning-client) (4.64.0)\n",
        "Requirement already satisfied: boto3 in c:\\anaconda\\lib\\site-packages (from watson-machine-learning-client) (1.21.32)\n",
        "Requirement already satisfied: pandas in c:\\anaconda\\lib\\site-packages (from watson-machine-learning-client) (1.4.2)\n",
        "Requirement already satisfied: requests in c:\\anaconda\\lib\\site-packages (fromm watson-machine-learning-client) (2.27.1)\n",
        "Requirement already satisfied: ibm-cos-sdk in c:\\users\\ Rishika \\appdata\\roaming\\python\\python39\\site-packages (from watson-machine-learning-client) (2.11.0)\n",
        "Requirement already satisfied: certifi in c:\\anaconda\\lib\\site-packages (from watson-machine-learning-client) (2021.10.8)\n",
        "Requirement already satisfied: urllib3 in c:\\anaconda\\lib\\site-packages (from watson-machine-learning-client) (1.26.9)\n",
        "Requirement already satisfied: s3transfer<0.6.0,>=0.5.0 in c:\\anaconda\\lib\\site-packages (from boto3->watson-machine-learning-client) (0.5.0)\n",
        "Requirement already satisfied: botocore<1.25.0,>=1.24.32 in c:\\anaconda\\lib\\site-packages (from boto3->watson-machine-learning-client) (1.24.32)\n",
        "Requirement already satisfied: jmespath<2.0.0,>=0.7.1 in c:\\anaconda\\lib\\site-packages (from boto3->watson-machine-learning-client) (0.10.0)\n",
        "Requirement already satisfied: python-dateutil<3.0.0,>=2.1 in c:\\anaconda\\lib\\site-packages (from botocore<1.25.0,>=1.24.32->boto3->watson-machine-learning-client) (2.8.2)\n",
        "Requirement already satisfied: six>=1.5 in c:\\anaconda\\lib\\site-packages (from python-dateutil<3.0.0,>=2.1->botocore<1.25.0,>=1.24.32->boto3->watson-machine-learning-client) (1.16.0)\n",
        "Requirement already satisfied: ibm-cos-sdk-s3transfer==2.11.0 in c:\\users\\ Rishika \\appdata\\roaming\\python\\python39\\site-packages (from ibm-cos-sdk->watson-machine-learning-client) (2.11.0)\n",
        "Requirement already satisfied: ibm-cos-sdk-core==2.11.0 in c:\\users\\krishna\\appdata\\roaming\\python\\python39\\site-packages (from ibm-cos-sdk->watson-machine-learning-client) (2.11.0)\n",
        "Requirement already satisfied: idna<4,>=2.5 in c:\\anaconda\\lib\\site-packages (from requests->watson-machine-learning-client) (3.3)\n",
        "Requirement already satisfied: charset-normalizer~=2.0.0 in c:\\anaconda\\lib\\site-packages (from requests->watson-machine-learning-client) (2.0.4)\n",
        "Requirement already satisfied: numpy>=1.18.5 in c:\\anaconda\\lib\\site-packages (from pandas->watson-machine-learning-client) (1.21.5)\n",
        "Requirement already satisfied: pytz>=2020.1 in c:\\anaconda\\lib\\site-packages (from pandas->watson-machine-learning-client) (2021.3)\n",
        "Requirement already satisfied: colorama in c:\\anaconda\\lib\\site-packages (from tqdm->watson-machine-learning-client) (0.4.4)\n",
        "\n",
        "\n",
        "```\n",
        "\n"
      ],
      "metadata": {
        "id": "KEHPm463LMuE"
      }
    },
    {
      "cell_type": "code",
      "source": [
        "!pip install ibm_watson_machine_learning"
      ],
      "metadata": {
        "id": "xHBiufVxMADj"
      },
      "execution_count": null,
      "outputs": []
    },
    {
      "cell_type": "markdown",
      "source": [
        "\n",
        "\n",
        "```\n",
        " codeDefaulting to user installation because normal site-packages is not writeable\n",
        "Requirement already satisfied: ibm_watson_machine_learning in c:\\users\\Rishika\\appdata\\roaming\\python\\python39\\site-packages (1.0.257)\n",
        "Requirement already satisfied: ibm-cos-sdk==2.11.* in c:\\users\\Rishika\\appdata\\roaming\\python\\python39\\site-packages (from ibm_watson_machine_learning) (2.11.0)\n",
        "Requirement already satisfied: lomond in c:\\users\\ Rishika \\appdata\\roaming\\python\\python39\\site-packages (from ibm_watson_machine_learning) (0.3.3)\n",
        "Requirement already satisfied: requests in c:\\anaconda\\lib\\site-packages (from ibm_watson_machine_learning) (2.27.1)\n",
        "Requirement already satisfied: packaging in c:\\anaconda\\lib\\site-packages (from ibm_watson_machine_learning) (21.3)\n",
        "Requirement already satisfied: pandas<1.5.0,>=0.24.2 in c:\\anaconda\\lib\\site-packages (from ibm_watson_machine_learning) (1.4.2)\n",
        "Requirement already satisfied: tabulate in c:\\anaconda\\lib\\site-packages (from ibm_watson_machine_learning) (0.8.9)\n",
        "Requirement already satisfied: importlib-metadata in c:\\anaconda\\lib\\site-packages (from ibm_watson_machine_learning) (4.11.3)\n",
        "Requirement already satisfied: certifi in c:\\anaconda\\lib\\site-packages (from ibm_watson_machine_learning) (2021.10.8)\n",
        "Requirement already satisfied: urllib3 in c:\\anaconda\\lib\\site-packages (from ibm_watson_machine_learning) (1.26.9)\n",
        "Requirement already satisfied: ibm-cos-sdk-s3transfer==2.11.0 in c:\\users\\ Rishika \\appdata\\roaming\\python\\python39\\site-packages (from ibm-cos-sdk==2.11.*->ibm_watson_machine_learning) (2.11.0)\n",
        "Requirement already satisfied: ibm-cos-sdk-core==2.11.0 in c:\\users\\ Rishika \\appdata\\roaming\\python\\python39\\site-packages (from ibm-cos-sdk==2.11.*->ibm_watson_machine_learning) (2.11.0)\n",
        "Requirement already satisfied: jmespath<1.0.0,>=0.7.1 in c:\\anaconda\\lib\\site-packages (from ibm-cos-sdk==2.11.*->ibm_watson_machine_learning) (0.10.0)\n",
        "Requirement already satisfied: python-dateutil<3.0.0,>=2.1 in c:\\anaconda\\lib\\site-packages (from ibm-cos-sdk-core==2.11.0->ibm-cos-sdk==2.11.*->ibm_watson_machine_learning) (2.8.2)\n",
        "Requirement already satisfied: numpy>=1.18.5 in c:\\anaconda\\lib\\site-packages (from pandas<1.5.0,>=0.24.2->ibm_watson_machine_learning) (1.21.5)\n",
        "Requirement already satisfied: pytz>=2020.1 in c:\\anaconda\\lib\\site-packages (from pandas<1.5.0,>=0.24.2->ibm_watson_machine_learning) (2021.3)\n",
        "Requirement already satisfied: six>=1.5 in c:\\anaconda\\lib\\site-packages (from python-dateutil<3.0.0,>=2.1->ibm-cos-sdk-core==2.11.0->ibm-cos-sdk==2.11.*->ibm_watson_machine_learning) (1.16.0)\n",
        "Requirement already satisfied: idna<4,>=2.5 in c:\\anaconda\\lib\\site-packages (from requests->ibm_watson_machine_learning) (3.3)\n",
        "Requirement already satisfied: charset-normalizer~=2.0.0 in c:\\anaconda\\lib\\site-packages (from requests->ibm_watson_machine_learning) (2.0.4)\n",
        "Requirement already satisfied: zipp>=0.5 in c:\\anaconda\\lib\\site-packages (from importlib-metadata->ibm_watson_machine_learning) (3.7.0)\n",
        "Requirement already satisfied: pyparsing!=3.0.5,>=2.0.2 in c:\\anaconda\\lib\\site-packages (from packaging->ibm_watson_machine_learning) (3.0.4)\n",
        "\n",
        "```\n",
        "\n"
      ],
      "metadata": {
        "id": "YKd2-VELMn8O"
      }
    },
    {
      "cell_type": "code",
      "source": [
        "from ibm_watson_machine_learning import APIClient\n",
        "wml_credentials ={\n",
        "    \"url\":\"https://us-south.ml.cloud.ibm.com\",\n",
        "    \"apikey\":\"tMCDlzUboHz488jAv04RVBRhES_kVucNikxkGqt7L8On\"\n",
        "\n",
        "}\n",
        "client = APIClient(wml_credentials)\n",
        "client"
      ],
      "metadata": {
        "id": "o8YiC1tOMrzc"
      },
      "execution_count": null,
      "outputs": []
    },
    {
      "cell_type": "code",
      "source": [
        "client.spaces.get_details()"
      ],
      "metadata": {
        "id": "7y506106M0M4"
      },
      "execution_count": null,
      "outputs": []
    },
    {
      "cell_type": "code",
      "source": [
        "def guid_space_name(client,space_name):\n",
        "  space=client.spaces.get_details()\n",
        "  return(next(item for item in space['resources'] if item['entity']['name']==space_name)['metadata']['id'])"
      ],
      "metadata": {
        "id": "fa0Wj-OUNCkz"
      },
      "execution_count": null,
      "outputs": []
    },
    {
      "cell_type": "markdown",
      "source": [
        "\n",
        "\n",
        "```\n",
        "{'resources': [{'entity': {'compute': [{'crn': 'crn:v1:bluemix:public:pm-20:us-south:a/971865f0bda948b99cb651a0a7b33ea7:fec5264e-ab0e-4b5e-a5fe-82b1f8c4be0e::',\n",
        "      'guid': 'fec5264e-ab0e-4b5e-a5fe-82b1f8c4be0e',\n",
        "      'name': 'Watson Machine Learning-kh',\n",
        "      'type': 'machine_learning'}],\n",
        "    'description': '',\n",
        "    'name': 'fertilizer recommendation',\n",
        "    'scope': {'bss_account_id': '971865f0bda948b99cb651a0a7b33ea7'},\n",
        "    'stage': {'production': False},\n",
        "    'status': {'state': 'active'},\n",
        "    'storage': {'properties': {'bucket_name': '003533c0-0bd4-4c88-9f3c-7d4667372897',\n",
        "      'bucket_region': 'us-south',\n",
        "      'credentials': {'admin': {'access_key_id': 'f8a2cee36e7941db8dda2bb6f5385e95',\n",
        "        'api_key': 'sjogrdTVRf6JK4nywskKhCLTOX_ErE32jNzRqqUmNeUU',\n",
        "        'secret_access_key': 'c5b5335d3c53dfba0e78de64313c2bc7675e045acd389969',\n",
        "        'service_id': 'ServiceId-03f45a7f-5e80-4cd1-b10c-174da34a0438'},\n",
        "       'editor': {'access_key_id': 'bfb148b288e0471baf4e7b9bbc0107a9',\n",
        "        'api_key': 'HIeKNIf6m85y_SA93CexNJAbznGNgjcDe3ugJeuYAi7D',\n",
        "        'resource_key_crn': 'crn:v1:bluemix:public:cloud-object-storage:global:a/971865f0bda948b99cb651a0a7b33ea7:22ed42dd-1a1d-432f-9b30-44d40fdc148f::',\n",
        "        'secret_access_key': '6710f5bbc4e1b942eccd3e71acbf7480b37e7299f72ff1f4',\n",
        "        'service_id': 'ServiceId-2b84129d-dcb1-4522-a269-13c830138521'},\n",
        "       'viewer': {'access_key_id': 'a6340553de0e40c2a6fae452518fa24d',\n",
        "        'api_key': 'g6PVDl6UR8JHjbXnWPLdcPGhoAfGhTbWU5zAYshUN1ok',\n",
        "        'resource_key_crn': 'crn:v1:bluemix:public:cloud-object-storage:global:a/971865f0bda948b99cb651a0a7b33ea7:22ed42dd-1a1d-432f-9b30-44d40fdc148f::',\n",
        "        'secret_access_key': '515140fd6e125b6f4eb3c1fbf75065f8c471da1c1a347f08',\n",
        "        'service_id': 'ServiceId-ab970e6a-4a72-47bd-92d1-ebc5e694d174'}},\n",
        "      'endpoint_url': 'https://s3.us-south.cloud-object-storage.appdomain.cloud',\n",
        "      'guid': '22ed42dd-1a1d-432f-9b30-44d40fdc148f',\n",
        "      'resource_crn': 'crn:v1:bluemix:public:cloud-object-storage:global:a/971865f0bda948b99cb651a0a7b33ea7:22ed42dd-1a1d-432f-9b30-44d40fdc148f::'},\n",
        "     'type': 'bmcos_object_storage'}},\n",
        "   'metadata': {'created_at': '2022-11-16T09:31:02.035Z',\n",
        "    'creator_id': 'IBMid-668000FC50',\n",
        "    'id': '7ab0dcb4-0291-4cd2-a251-ed4c2cc7f5ac',\n",
        "    'updated_at': '2022-11-16T09:31:30.910Z',\n",
        "    'url': '/v2/spaces/7ab0dcb4-0291-4cd2-a251-ed4c2cc7f5ac'}}]}\n",
        "```\n",
        "\n",
        "\n",
        "\n"
      ],
      "metadata": {
        "id": "_IUXLMZ9NOZk"
      }
    },
    {
      "cell_type": "code",
      "source": [
        "def guid_space_name(client,space_name):\n",
        "  space=client.spaces.get_details()\n",
        "  return(next(item for item in space['resources'] if item['entity']['name']==space_name)['metadata']['id'])"
      ],
      "metadata": {
        "id": "NlV3YT1uOfDd"
      },
      "execution_count": null,
      "outputs": []
    },
    {
      "cell_type": "code",
      "source": [
        "space_uid=guid_space_name(client,'fertilizer recommendation')\n",
        "space_uid"
      ],
      "metadata": {
        "id": "uzRGjkfzOhRh"
      },
      "execution_count": null,
      "outputs": []
    },
    {
      "cell_type": "markdown",
      "source": [
        "'7ab0dcb4-0291-4cd2-a251-ed4c2cc7f5ac'"
      ],
      "metadata": {
        "id": "SwupEAPjOrON"
      }
    },
    {
      "cell_type": "code",
      "source": [
        "client.set.default_space(space_uid)"
      ],
      "metadata": {
        "id": "7VfmcTmYOr5B"
      },
      "execution_count": null,
      "outputs": []
    },
    {
      "cell_type": "markdown",
      "source": [
        "'SUCCESS'"
      ],
      "metadata": {
        "id": "wKLCOO1UO3rB"
      }
    },
    {
      "cell_type": "code",
      "source": [
        "client.software_specifications.list()"
      ],
      "metadata": {
        "id": "P8UmTc7iO6Dt"
      },
      "execution_count": null,
      "outputs": []
    },
    {
      "cell_type": "markdown",
      "source": [
        "\n",
        "\n",
        "```\n",
        "-----------------------------  ------------------------------------  ----\n",
        "NAME                           ASSET_ID                              TYPE\n",
        "default_py3.6                  0062b8c9-8b7d-44a0-a9b9-46c416adcbd9  base\n",
        "kernel-spark3.2-scala2.12      020d69ce-7ac1-5e68-ac1a-31189867356a  base\n",
        "pytorch-onnx_1.3-py3.7-edt     069ea134-3346-5748-b513-49120e15d288  base\n",
        "scikit-learn_0.20-py3.6        09c5a1d0-9c1e-4473-a344-eb7b665ff687  base\n",
        "spark-mllib_3.0-scala_2.12     09f4cff0-90a7-5899-b9ed-1ef348aebdee  base\n",
        "pytorch-onnx_rt22.1-py3.9      0b848dd4-e681-5599-be41-b5f6fccc6471  base\n",
        "ai-function_0.1-py3.6          0cdb0f1e-5376-4f4d-92dd-da3b69aa9bda  base\n",
        "shiny-r3.6                     0e6e79df-875e-4f24-8ae9-62dcc2148306  base\n",
        "tensorflow_2.4-py3.7-horovod   1092590a-307d-563d-9b62-4eb7d64b3f22  base\n",
        "pytorch_1.1-py3.6              10ac12d6-6b30-4ccd-8392-3e922c096a92  base\n",
        "tensorflow_1.15-py3.6-ddl      111e41b3-de2d-5422-a4d6-bf776828c4b7  base\n",
        "autoai-kb_rt22.2-py3.10        125b6d9a-5b1f-5e8d-972a-b251688ccf40  base\n",
        "runtime-22.1-py3.9             12b83a17-24d8-5082-900f-0ab31fbfd3cb  base\n",
        "scikit-learn_0.22-py3.6        154010fa-5b3b-4ac1-82af-4d5ee5abbc85  base\n",
        "default_r3.6                   1b70aec3-ab34-4b87-8aa0-a4a3c8296a36  base\n",
        "pytorch-onnx_1.3-py3.6         1bc6029a-cc97-56da-b8e0-39c3880dbbe7  base\n",
        "kernel-spark3.3-r3.6           1c9e5454-f216-59dd-a20e-474a5cdf5988  base\n",
        "pytorch-onnx_rt22.1-py3.9-edt  1d362186-7ad5-5b59-8b6c-9d0880bde37f  base\n",
        "tensorflow_2.1-py3.6           1eb25b84-d6ed-5dde-b6a5-3fbdf1665666  base\n",
        "spark-mllib_3.2                20047f72-0a98-58c7-9ff5-a77b012eb8f5  base\n",
        "tensorflow_2.4-py3.8-horovod   217c16f6-178f-56bf-824a-b19f20564c49  base\n",
        "runtime-22.1-py3.9-cuda        26215f05-08c3-5a41-a1b0-da66306ce658  base\n",
        "do_py3.8                       295addb5-9ef9-547e-9bf4-92ae3563e720  base\n",
        "autoai-ts_3.8-py3.8            2aa0c932-798f-5ae9-abd6-15e0c2402fb5  base\n",
        "tensorflow_1.15-py3.6          2b73a275-7cbf-420b-a912-eae7f436e0bc  base\n",
        "kernel-spark3.3-py3.9          2b7961e2-e3b1-5a8c-a491-482c8368839a  base\n",
        "pytorch_1.2-py3.6              2c8ef57d-2687-4b7d-acce-01f94976dac1  base\n",
        "spark-mllib_2.3                2e51f700-bca0-4b0d-88dc-5c6791338875  base\n",
        "pytorch-onnx_1.1-py3.6-edt     32983cea-3f32-4400-8965-dde874a8d67e  base\n",
        "spark-mllib_3.0-py37           36507ebe-8770-55ba-ab2a-eafe787600e9  base\n",
        "spark-mllib_2.4                390d21f8-e58b-4fac-9c55-d7ceda621326  base\n",
        "autoai-ts_rt22.2-py3.10        396b2e83-0953-5b86-9a55-7ce1628a406f  base\n",
        "xgboost_0.82-py3.6             39e31acd-5f30-41dc-ae44-60233c80306e  base\n",
        "pytorch-onnx_1.2-py3.6-edt     40589d0e-7019-4e28-8daa-fb03b6f4fe12  base\n",
        "pytorch-onnx_rt22.2-py3.10     40e73f55-783a-5535-b3fa-0c8b94291431  base\n",
        "default_r36py38                41c247d3-45f8-5a71-b065-8580229facf0  base\n",
        "autoai-ts_rt22.1-py3.9         4269d26e-07ba-5d40-8f66-2d495b0c71f7  base\n",
        "autoai-obm_3.0                 42b92e18-d9ab-567f-988a-4240ba1ed5f7  base\n",
        "pmml-3.0_4.3                   493bcb95-16f1-5bc5-bee8-81b8af80e9c7  base\n",
        "spark-mllib_2.4-r_3.6          49403dff-92e9-4c87-a3d7-a42d0021c095  base\n",
        "xgboost_0.90-py3.6             4ff8d6c2-1343-4c18-85e1-689c965304d3  base\n",
        "pytorch-onnx_1.1-py3.6         50f95b2a-bc16-43bb-bc94-b0bed208c60b  base\n",
        "autoai-ts_3.9-py3.8            52c57136-80fa-572e-8728-a5e7cbb42cde  base\n",
        "spark-mllib_2.4-scala_2.11     55a70f99-7320-4be5-9fb9-9edb5a443af5  base\n",
        "spark-mllib_3.0                5c1b0ca2-4977-5c2e-9439-ffd44ea8ffe9  base\n",
        "autoai-obm_2.0                 5c2e37fa-80b8-5e77-840f-d912469614ee  base\n",
        "spss-modeler_18.1              5c3cad7e-507f-4b2a-a9a3-ab53a21dee8b  base\n",
        "cuda-py3.8                     5d3232bf-c86b-5df4-a2cd-7bb870a1cd4e  base\n",
        "autoai-kb_3.1-py3.7            632d4b22-10aa-5180-88f0-f52dfb6444d7  base\n",
        "pytorch-onnx_1.7-py3.8         634d3cdc-b562-5bf9-a2d4-ea90a478456b  base\n",
        "-----------------------------  ------------------------------------  ----\n",
        "Note: Only first 50 records were displayed. To display more use 'limit' parameter.\n",
        "```\n",
        "\n"
      ],
      "metadata": {
        "id": "TbZezlA8O9KY"
      }
    },
    {
      "cell_type": "code",
      "source": [
        "software_space_uid=client.software_specifications.get_uid_by_name('tensorflow_rt22.1-py3.9')\n",
        "software_space_uid"
      ],
      "metadata": {
        "id": "m-DZKFK3PGQI"
      },
      "execution_count": null,
      "outputs": []
    },
    {
      "cell_type": "markdown",
      "source": [
        "\n",
        "\n",
        "```\n",
        "'acd9c798-6974-5d2f-a657-ce06e986df4d'\n",
        "```\n",
        "\n"
      ],
      "metadata": {
        "id": "0u0IQdm6PITl"
      }
    },
    {
      "cell_type": "code",
      "source": [
        "model_details=client.repository.store_model(model='fruit-classification.tgz',\n",
        "                                            meta_props={\n",
        "                                                client.repository.ModelMetaNames.NAME:\"FRUIT CNN model\",\n",
        "                                                client.repository.ModelMetaNames.TYPE:\"tensorflow_2.7\",\n",
        "                                                client.repository.ModelMetaNames.SOFTWARE_SPEC_UID:software_space_uid\n",
        "\n",
        "\n",
        "                                            })"
      ],
      "metadata": {
        "id": "AOSnUD09PMLg"
      },
      "execution_count": null,
      "outputs": []
    },
    {
      "cell_type": "code",
      "source": [
        "model_details"
      ],
      "metadata": {
        "id": "h-ilZ46nPS82"
      },
      "execution_count": null,
      "outputs": []
    },
    {
      "cell_type": "markdown",
      "source": [
        "\n",
        "\n",
        "```\n",
        "{'entity': {'hybrid_pipeline_software_specs': [],\n",
        "  'software_spec': {'id': 'acd9c798-6974-5d2f-a657-ce06e986df4d',\n",
        "   'name': 'tensorflow_rt22.1-py3.9'},\n",
        "  'type': 'tensorflow_2.7'},\n",
        " 'metadata': {'created_at': '2022-11-16T18:37:37.349Z',\n",
        "  'id': 'd0685141-b035-4830-80e4-abaebe5c2a40',\n",
        "  'modified_at': '2022-11-16T18:39:57.388Z',\n",
        "  'name': 'FRUIT CNN model',\n",
        "  'owner': 'IBMid-668000FC50',\n",
        "  'resource_key': 'c0e5746e-6f32-4a2a-ae0b-a628051952a2',\n",
        "  'space_id': '7ab0dcb4-0291-4cd2-a251-ed4c2cc7f5ac'},\n",
        " 'system': {'warnings': []}}\n",
        "```\n",
        "\n"
      ],
      "metadata": {
        "id": "-9nZYk7_PXJG"
      }
    },
    {
      "cell_type": "code",
      "source": [
        "model_id=client.repository.get_model_id(model_details)\n",
        "model_id"
      ],
      "metadata": {
        "id": "gBYabpgGPZP8"
      },
      "execution_count": null,
      "outputs": []
    },
    {
      "cell_type": "markdown",
      "source": [
        "\n",
        "\n",
        "```\n",
        "'d0685141-b035-4830-80e4-abaebe5c2a40'\n",
        "```\n",
        "\n"
      ],
      "metadata": {
        "id": "YULjcnh1PcxD"
      }
    },
    {
      "cell_type": "code",
      "source": [
        "client.repository.download(model_id,'fruit_model_ibm.tar.gn')"
      ],
      "metadata": {
        "id": "j--AnG0mPeoG"
      },
      "execution_count": null,
      "outputs": []
    },
    {
      "cell_type": "markdown",
      "source": [
        "\n",
        "\n",
        "```\n",
        "Successfully saved model content to file: 'fruit_model_ibm.tar.gn'\n",
        "'C:\\\\Users\\\\Rishika\\\\OneDrive\\\\Desktop\\\\Fertilizer recommendation system for disease prediction\\\\IBM TRAINING/fruit_model_ibm.tar.gn'\n",
        "```\n",
        "\n"
      ],
      "metadata": {
        "id": "tUWFFjJkPglI"
      }
    }
  ]
}