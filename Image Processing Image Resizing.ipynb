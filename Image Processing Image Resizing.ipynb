{
  "nbformat": 4,
  "nbformat_minor": 0,
  "metadata": {
    "colab": {
      "provenance": []
    },
    "kernelspec": {
      "name": "python3",
      "display_name": "Python 3"
    },
    "language_info": {
      "name": "python"
    }
  },
  "cells": [
    {
      "cell_type": "markdown",
      "source": [
        "Image Resizing"
      ],
      "metadata": {
        "id": "uei1ty-klrEd"
      }
    },
    {
      "cell_type": "code",
      "execution_count": null,
      "metadata": {
        "id": "lgKX4povle8-"
      },
      "outputs": [],
      "source": [
        "import PIL\n",
        "import os\n",
        "import os.path\n",
        "from PIL import Image\n",
        "\n",
        "f = r'E:/DATASET/plant-doc/plantdocx-corn/PlantDoc-Dataset/corn/test/Corn Gray leaf spot'\n",
        "for file in os.listdir(f):\n",
        "    f_img = f+\"/\"+file\n",
        "    img = Image.open(f_img)\n",
        "    img = img.resize((224,224))\n",
        "    img.save(f_img)\n",
        "print(\"image are Resized\")"
      ]
    }
  ]
}